{
 "cells": [
  {
   "cell_type": "code",
   "execution_count": null,
   "metadata": {},
   "outputs": [],
   "source": [
    "from MapConstructor import MapMaker"
   ]
  },
  {
   "cell_type": "code",
   "execution_count": null,
   "metadata": {},
   "outputs": [],
   "source": [
    "# initiate mapmaker for a planet\n",
    "mapmaker = MapMaker(planet = 'Mars', quality = 'FHD')"
   ]
  },
  {
   "cell_type": "code",
   "execution_count": null,
   "metadata": {},
   "outputs": [],
   "source": [
    "# make maps from list\n",
    "mapmaker.make_maps(sea_share=50, sea_level_pressure = 101325, solar_irradiance=1361,\n",
    "                    maps_list=['altitude', 'temperature', 'pressure', 'precipitations', 'climate', \n",
    "                                      'pop_den', 'radiation', 'remoteness', ' natural_colors'], \n",
    "                    verbose=False, title='long', read_file=False)"
   ]
  },
  {
   "cell_type": "code",
   "execution_count": null,
   "metadata": {},
   "outputs": [],
   "source": [
    "# make maps mosaic\n",
    "mapmaker.make_maps_mosaic(sea_share=50, maps_matrix=[['altitude', 'climate', 'title'], \n",
    "                                                             ['pressure', 'temperature', 'pop_den'], \n",
    "                                                             ['remoteness', 'precipitations','radiation']], \n",
    "                          verbose=False, read_file=False, title='short')"
   ]
  },
  {
   "cell_type": "code",
   "execution_count": null,
   "metadata": {},
   "outputs": [],
   "source": [
    "# make videos from list\n",
    "mapmaker.make_videos(i_list=[i for i in range(0,len(mapmaker.sea_shares), step)], \n",
    "                                projection='eck4',\n",
    "                                maps_list=['altitude', 'climate', 'radiation', \n",
    "                                             'pressure', 'temperature', 'pop_den', \n",
    "                                             'remoteness', 'precipitations','natural_colors'], \n",
    "                                verbose=True, title='long', show_hillshade=True, caption=False, fps=30, \n",
    "                                view='toponyms_lines')"
   ]
  },
  {
   "cell_type": "code",
   "execution_count": null,
   "metadata": {},
   "outputs": [],
   "source": [
    "# make videos mosaic\n",
    "mapmaker.make_videos_mosaic(i_list=[i for i in range(0,len(mapmaker.sea_shares), step)], \n",
    "                                projection='eck4',\n",
    "                                maps_matrix=[['altitude', 'climate', 'title'], \n",
    "                                             ['pressure', 'temperature', 'pop_den'], \n",
    "                                             ['remoteness', 'precipitations','natural_colors']], \n",
    "                                verbose=True, title='short', show_hillshade=True, caption=False, fps=30, \n",
    "                                view='toponyms_lines')"
   ]
  },
  {
   "cell_type": "code",
   "execution_count": null,
   "metadata": {},
   "outputs": [],
   "source": [
    "import time\n",
    "time.sleep(1800)"
   ]
  },
  {
   "cell_type": "code",
   "execution_count": null,
   "metadata": {},
   "outputs": [],
   "source": [
    "!sudo poweroff"
   ]
  },
  {
   "cell_type": "code",
   "execution_count": null,
   "metadata": {},
   "outputs": [],
   "source": []
  }
 ],
 "metadata": {
  "kernelspec": {
   "display_name": "Python 3",
   "language": "python",
   "name": "python3"
  },
  "language_info": {
   "codemirror_mode": {
    "name": "ipython",
    "version": 3
   },
   "file_extension": ".py",
   "mimetype": "text/x-python",
   "name": "python",
   "nbconvert_exporter": "python",
   "pygments_lexer": "ipython3",
   "version": "3.7.6"
  }
 },
 "nbformat": 4,
 "nbformat_minor": 4
}
